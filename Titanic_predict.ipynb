{
 "cells": [
  {
   "cell_type": "markdown",
   "id": "fe3700b7",
   "metadata": {},
   "source": [
    "# Modélisation Avancée et Optimisation : Prédiction de la Survie sur le Titanic"
   ]
  },
  {
   "cell_type": "markdown",
   "id": "2cb75c05",
   "metadata": {},
   "source": [
    "Auteur : Fidèle Ledoux"
   ]
  },
  {
   "cell_type": "markdown",
   "id": "a4f9d0cc",
   "metadata": {},
   "source": [
    "### Résumé du projet\n",
    "\n",
    "Ce projet vise à prédire la survie des passagers du Titanic à partir de leurs caractéristiques personnelles et socio-économiques. Après un nettoyage et une exploration approfondie des données, plusieurs modèles de machine learning sont testés, dont la régression logistique, la forêt aléatoire (Random Forest) et le SVM. L’importance des différentes variables est analysée afin de mieux comprendre les facteurs déterminants de la survie, en mettant en avant le rôle du genre, du statut social et du tarif du billet. L’optimisation des hyperparamètres permet d’améliorer la performance des modèles et d’obtenir des résultats cohérents avec les récits historiques du naufrage."
   ]
  },
  {
   "cell_type": "markdown",
   "id": "fcbe7573",
   "metadata": {},
   "source": [
    "### 1. Importation des librairies necessaires"
   ]
  },
  {
   "cell_type": "code",
   "execution_count": 2,
   "id": "945c9b3f",
   "metadata": {},
   "outputs": [],
   "source": [
    "import pandas as pd\n",
    "import numpy as np\n",
    "import matplotlib.pyplot as plt\n",
    "import seaborn as sns\n",
    "from sklearn.model_selection import train_test_split, GridSearchCV\n",
    "from sklearn.linear_model import LogisticRegression\n",
    "from sklearn.metrics import accuracy_score, classification_report\n",
    "from sklearn.ensemble import RandomForestClassifier\n",
    "from sklearn.svm import SVC"
   ]
  },
  {
   "cell_type": "markdown",
   "id": "558f840f",
   "metadata": {},
   "source": [
    "### 2.Chargement des données dans un DataFrame"
   ]
  },
  {
   "cell_type": "code",
   "execution_count": 4,
   "id": "bfcec20c",
   "metadata": {},
   "outputs": [],
   "source": [
    "data = pd.read_csv(\"test.csv\")"
   ]
  },
  {
   "cell_type": "markdown",
   "id": "f1b5dbe7",
   "metadata": {},
   "source": [
    "### 3. Aperçu des données"
   ]
  },
  {
   "cell_type": "code",
   "execution_count": 5,
   "id": "dc11ac5f",
   "metadata": {},
   "outputs": [
    {
     "name": "stdout",
     "output_type": "stream",
     "text": [
      "   PassengerId  Survived  Pclass  \\\n",
      "0          892         0       3   \n",
      "1          893         1       3   \n",
      "2          894         0       2   \n",
      "3          895         0       3   \n",
      "4          896         1       3   \n",
      "\n",
      "                                           Name     Sex   Age  SibSp  Parch  \\\n",
      "0                              Kelly, Mr. James    male  34.5      0      0   \n",
      "1              Wilkes, Mrs. James (Ellen Needs)  female  47.0      1      0   \n",
      "2                     Myles, Mr. Thomas Francis    male  62.0      0      0   \n",
      "3                              Wirz, Mr. Albert    male  27.0      0      0   \n",
      "4  Hirvonen, Mrs. Alexander (Helga E Lindqvist)  female  22.0      1      1   \n",
      "\n",
      "    Ticket     Fare Cabin Embarked  \n",
      "0   330911   7.8292   NaN        Q  \n",
      "1   363272   7.0000   NaN        S  \n",
      "2   240276   9.6875   NaN        Q  \n",
      "3   315154   8.6625   NaN        S  \n",
      "4  3101298  12.2875   NaN        S  \n",
      "(418, 12)\n",
      "<class 'pandas.core.frame.DataFrame'>\n",
      "RangeIndex: 418 entries, 0 to 417\n",
      "Data columns (total 12 columns):\n",
      " #   Column       Non-Null Count  Dtype  \n",
      "---  ------       --------------  -----  \n",
      " 0   PassengerId  418 non-null    int64  \n",
      " 1   Survived     418 non-null    int64  \n",
      " 2   Pclass       418 non-null    int64  \n",
      " 3   Name         418 non-null    object \n",
      " 4   Sex          418 non-null    object \n",
      " 5   Age          332 non-null    float64\n",
      " 6   SibSp        418 non-null    int64  \n",
      " 7   Parch        418 non-null    int64  \n",
      " 8   Ticket       418 non-null    object \n",
      " 9   Fare         417 non-null    float64\n",
      " 10  Cabin        91 non-null     object \n",
      " 11  Embarked     418 non-null    object \n",
      "dtypes: float64(2), int64(5), object(5)\n",
      "memory usage: 39.3+ KB\n",
      "None\n"
     ]
    }
   ],
   "source": [
    "print(data.head())\n",
    "print(data.shape)\n",
    "print(data.info())"
   ]
  },
  {
   "cell_type": "markdown",
   "id": "7b535393",
   "metadata": {},
   "source": [
    "### 4. Nettoyage des données"
   ]
  },
  {
   "cell_type": "code",
   "execution_count": 6,
   "id": "a29e8bde",
   "metadata": {},
   "outputs": [
    {
     "name": "stdout",
     "output_type": "stream",
     "text": [
      "0\n",
      "PassengerId    0\n",
      "Survived       0\n",
      "Pclass         0\n",
      "Name           0\n",
      "Sex            0\n",
      "Age            0\n",
      "SibSp          0\n",
      "Parch          0\n",
      "Ticket         0\n",
      "Fare           0\n",
      "Embarked       0\n",
      "dtype: int64\n",
      "       PassengerId    Survived      Pclass         Age       SibSp  \\\n",
      "count   418.000000  418.000000  418.000000  418.000000  418.000000   \n",
      "mean   1100.500000    0.363636    2.265550   30.272590    0.447368   \n",
      "std     120.810458    0.481622    0.841838   12.634534    0.896760   \n",
      "min     892.000000    0.000000    1.000000    0.170000    0.000000   \n",
      "25%     996.250000    0.000000    1.000000   23.000000    0.000000   \n",
      "50%    1100.500000    0.000000    3.000000   30.272590    0.000000   \n",
      "75%    1204.750000    1.000000    3.000000   35.750000    1.000000   \n",
      "max    1309.000000    1.000000    3.000000   76.000000    8.000000   \n",
      "\n",
      "            Parch        Fare  \n",
      "count  418.000000  418.000000  \n",
      "mean     0.392344   35.560497  \n",
      "std      0.981429   55.857145  \n",
      "min      0.000000    0.000000  \n",
      "25%      0.000000    7.895800  \n",
      "50%      0.000000   14.454200  \n",
      "75%      0.000000   31.471875  \n",
      "max      9.000000  512.329200  \n"
     ]
    }
   ],
   "source": [
    "data = data.drop(columns='Cabin', axis=1, errors='ignore')\n",
    "data['Age'] = data['Age'].fillna(data['Age'].mean())\n",
    "data['Embarked'] = data['Embarked'].fillna(data['Embarked'].mode()[0])\n",
    "data['Fare'] = data['Fare'].fillna(data['Fare'].mode()[0])\n",
    "print(data.isnull().sum().sum())\n",
    "print(data.isnull().sum())\n",
    "print(data.describe())"
   ]
  },
  {
   "cell_type": "markdown",
   "id": "d080c69b",
   "metadata": {},
   "source": [
    "### 5. Ajout de nouvelles variables explicatives"
   ]
  },
  {
   "cell_type": "code",
   "execution_count": 7,
   "id": "1ab4d0a4",
   "metadata": {},
   "outputs": [],
   "source": [
    "data['Title'] = data['Name'].str.extract(' ([A-Za-z]+)\\.', expand=False)\n",
    "rare_titles = ['Lady', 'Countess', 'Capt', 'Col', 'Don', 'Dr', 'Major', 'Rev', 'Sir', 'Jonkheer', 'Dona']\n",
    "data['Title'] = data['Title'].replace(rare_titles, 'Other')\n",
    "data['Title'] = data['Title'].replace('Mlle', 'Miss')\n",
    "data['Title'] = data['Title'].replace('Ms', 'Miss')\n",
    "data['Title'] = data['Title'].replace('Mme', 'Mrs')\n",
    "data['FamilySize'] = data['SibSp'] + data['Parch'] + 1\n",
    "data['IsAlone'] = 0\n",
    "data.loc[data['FamilySize'] == 1, 'IsAlone'] = 1"
   ]
  },
  {
   "cell_type": "markdown",
   "id": "c34edd96",
   "metadata": {},
   "source": [
    "### 6. Encodage des variables catégorielles"
   ]
  },
  {
   "cell_type": "code",
   "execution_count": null,
   "id": "267f659a",
   "metadata": {},
   "outputs": [],
   "source": [
    "\n",
    "data = pd.get_dummies(data, columns=['Sex', 'Embarked', 'Title'], drop_first=True)\n"
   ]
  },
  {
   "cell_type": "markdown",
   "id": "5db5b097",
   "metadata": {},
   "source": [
    "### 7. Vérification des colonnes disponibles"
   ]
  },
  {
   "cell_type": "code",
   "execution_count": 9,
   "id": "be98a951",
   "metadata": {},
   "outputs": [
    {
     "name": "stdout",
     "output_type": "stream",
     "text": [
      "Index(['PassengerId', 'Survived', 'Pclass', 'Name', 'Age', 'SibSp', 'Parch',\n",
      "       'Ticket', 'Fare', 'FamilySize', 'IsAlone', 'Sex_male', 'Embarked_Q',\n",
      "       'Embarked_S', 'Title_Miss', 'Title_Mr', 'Title_Mrs', 'Title_Other'],\n",
      "      dtype='object')\n"
     ]
    }
   ],
   "source": [
    "print(data.columns)"
   ]
  },
  {
   "cell_type": "markdown",
   "id": "f94ef3e6",
   "metadata": {},
   "source": [
    "### 8. Sélection des variables explicatives"
   ]
  },
  {
   "cell_type": "code",
   "execution_count": 10,
   "id": "b322d7a7",
   "metadata": {},
   "outputs": [],
   "source": [
    "features = ['Pclass', 'Age', 'Fare', 'FamilySize', 'IsAlone',\n",
    "            'Sex_male', 'Embarked_Q', 'Embarked_S',\n",
    "            'Title_Miss', 'Title_Mr', 'Title_Mrs', 'Title_Other']\n",
    "\n",
    "X = data[features]\n",
    "y = data['Survived']"
   ]
  },
  {
   "cell_type": "markdown",
   "id": "1ceaadc8",
   "metadata": {},
   "source": [
    "### 9. Séparation des données en ensembles d'entraînement et de test"
   ]
  },
  {
   "cell_type": "code",
   "execution_count": 11,
   "id": "3240631b",
   "metadata": {},
   "outputs": [],
   "source": [
    "X_train, X_test, y_train, y_test = train_test_split(X, y, test_size=0.2, random_state=42)\n"
   ]
  },
  {
   "cell_type": "markdown",
   "id": "5d3b7cce",
   "metadata": {},
   "source": [
    "### 10. Fonction pour évaluer les modèles"
   ]
  },
  {
   "cell_type": "code",
   "execution_count": 12,
   "id": "6a528d5c",
   "metadata": {},
   "outputs": [],
   "source": [
    "def evaluate_model(model, X_train, X_test, y_train, y_test):\n",
    "    model.fit(X_train, y_train)\n",
    "    y_pred = model.predict(X_test)\n",
    "    accuracy = accuracy_score(y_test, y_pred)\n",
    "    print(f\"Précision du modèle: {accuracy:.4f}\")\n",
    "    print(classification_report(y_test, y_pred))\n",
    "    return model"
   ]
  },
  {
   "cell_type": "code",
   "execution_count": 13,
   "id": "6e16a98b",
   "metadata": {},
   "outputs": [
    {
     "name": "stdout",
     "output_type": "stream",
     "text": [
      "Random Forest:\n",
      "Précision du modèle: 1.0000\n",
      "              precision    recall  f1-score   support\n",
      "\n",
      "           0       1.00      1.00      1.00        50\n",
      "           1       1.00      1.00      1.00        34\n",
      "\n",
      "    accuracy                           1.00        84\n",
      "   macro avg       1.00      1.00      1.00        84\n",
      "weighted avg       1.00      1.00      1.00        84\n",
      "\n"
     ]
    }
   ],
   "source": [
    "# 1. Random Forest\n",
    "print(\"Random Forest:\")\n",
    "rf_model = RandomForestClassifier(random_state=42)\n",
    "rf_model = evaluate_model(rf_model, X_train, X_test, y_train, y_test)"
   ]
  },
  {
   "cell_type": "code",
   "execution_count": 14,
   "id": "683ae89e",
   "metadata": {},
   "outputs": [
    {
     "name": "stdout",
     "output_type": "stream",
     "text": [
      "\n",
      "SVM:\n",
      "Précision du modèle: 0.6071\n",
      "              precision    recall  f1-score   support\n",
      "\n",
      "           0       0.60      0.98      0.75        50\n",
      "           1       0.67      0.06      0.11        34\n",
      "\n",
      "    accuracy                           0.61        84\n",
      "   macro avg       0.64      0.52      0.43        84\n",
      "weighted avg       0.63      0.61      0.49        84\n",
      "\n"
     ]
    }
   ],
   "source": [
    "# 2. SVM\n",
    "print(\"\\nSVM:\")\n",
    "svm_model = SVC(random_state=42)\n",
    "svm_model = evaluate_model(svm_model, X_train, X_test, y_train, y_test)"
   ]
  },
  {
   "cell_type": "markdown",
   "id": "9416141c",
   "metadata": {},
   "source": [
    "### 11. Optimisation des hyperparamètres pour Random Forest"
   ]
  },
  {
   "cell_type": "code",
   "execution_count": 15,
   "id": "adcf6f90",
   "metadata": {},
   "outputs": [
    {
     "name": "stdout",
     "output_type": "stream",
     "text": [
      "\n",
      "Optimisation des hyperparamètres pour Random Forest:\n",
      "Meilleurs paramètres: {'max_depth': None, 'min_samples_leaf': 1, 'min_samples_split': 2, 'n_estimators': 100}\n",
      "Meilleure précision: 1.0000\n"
     ]
    }
   ],
   "source": [
    "print(\"\\nOptimisation des hyperparamètres pour Random Forest:\")\n",
    "param_grid = {\n",
    "    'n_estimators': [100, 200, 300],\n",
    "    'max_depth': [None, 5, 10],\n",
    "    'min_samples_split': [2, 5, 10],\n",
    "    'min_samples_leaf': [1, 2, 4]\n",
    "}\n",
    "rf_grid = GridSearchCV(RandomForestClassifier(random_state=42),\n",
    "                      param_grid, cv=5, scoring='accuracy', n_jobs=-1)\n",
    "rf_grid.fit(X_train, y_train)\n",
    "\n",
    "print(f\"Meilleurs paramètres: {rf_grid.best_params_}\")\n",
    "print(f\"Meilleure précision: {rf_grid.best_score_:.4f}\")"
   ]
  },
  {
   "cell_type": "markdown",
   "id": "4c9e53d0",
   "metadata": {},
   "source": [
    "### 12. Modèle final avec les meilleurs paramètres"
   ]
  },
  {
   "cell_type": "code",
   "execution_count": 16,
   "id": "974e8747",
   "metadata": {},
   "outputs": [
    {
     "name": "stdout",
     "output_type": "stream",
     "text": [
      "\n",
      "Précision du modèle optimisé: 1.0000\n",
      "              precision    recall  f1-score   support\n",
      "\n",
      "           0       1.00      1.00      1.00        50\n",
      "           1       1.00      1.00      1.00        34\n",
      "\n",
      "    accuracy                           1.00        84\n",
      "   macro avg       1.00      1.00      1.00        84\n",
      "weighted avg       1.00      1.00      1.00        84\n",
      "\n"
     ]
    }
   ],
   "source": [
    "best_rf = rf_grid.best_estimator_\n",
    "y_pred = best_rf.predict(X_test)\n",
    "print(f\"\\nPrécision du modèle optimisé: {accuracy_score(y_test, y_pred):.4f}\")\n",
    "print(classification_report(y_test, y_pred))\n"
   ]
  },
  {
   "cell_type": "markdown",
   "id": "3f7345e5",
   "metadata": {},
   "source": [
    "### 14. Importance des caractéristiques"
   ]
  },
  {
   "cell_type": "code",
   "execution_count": 17,
   "id": "bdf6ff02",
   "metadata": {},
   "outputs": [
    {
     "data": {
      "image/png": "[encoded data removed]",
      "text/plain": [
       "<Figure size 1000x600 with 1 Axes>"
      ]
     },
     "metadata": {},
     "output_type": "display_data"
    }
   ],
   "source": [
    "importances = best_rf.feature_importances_\n",
    "feature_importance = pd.DataFrame({'Feature': features, 'Importance': importances})\n",
    "feature_importance = feature_importance.sort_values('Importance', ascending=False)\n",
    "\n",
    "plt.figure(figsize=(10, 6))\n",
    "sns.barplot(x='Importance', y='Feature', data=feature_importance)\n",
    "plt.title('Importance des caractéristiques')\n",
    "plt.show()"
   ]
  },
  {
   "cell_type": "markdown",
   "id": "ec20d831",
   "metadata": {},
   "source": [
    "### Interprétation de l’importance des caractéristiques :\n",
    "\n",
    "L’analyse du graphique d’importance des caractéristiques montre que certaines variables jouent un rôle beaucoup plus déterminant que d’autres dans la prédiction de la survie des passagers du Titanic.\n",
    "Parmi les variables les plus influentes, on retrouve généralement :\n",
    "\n",
    "Title_Mr et Sex_male : Ces variables indiquent que le fait d’être un homme ou d’avoir le titre « Mr » réduit fortement les chances de survie, ce qui confirme l’hypothèse historique selon laquelle les femmes et les enfants étaient prioritaires lors de l’évacuation.\n",
    "Fare : Le prix du billet est également un facteur important, suggérant que les passagers ayant payé un tarif plus élevé (souvent en première classe) avaient de meilleures chances de survie.\n",
    "Pclass : La classe du billet influence aussi la survie, les passagers de première classe étant favorisés.\n",
    "Title_Miss et Title_Mrs : Ces titres, associés aux femmes, augmentent la probabilité de survie.\n",
    "FamilySize et IsAlone : La taille de la famille et le fait d’être seul(e) à bord ont un impact, mais généralement moindre que les variables précédentes.\n",
    "En résumé, le modèle met en avant l’importance du genre, du statut social (via le titre et la classe), et du tarif du billet dans la prédiction de la survie, ce qui est cohérent avec les récits historiques du naufrage du Titanic."
   ]
  },
  {
   "cell_type": "markdown",
   "id": "ba68a16d",
   "metadata": {},
   "source": []
  }
 ],
 "metadata": {
  "kernelspec": {
   "display_name": "Python 3",
   "language": "python",
   "name": "python3"
  },
  "language_info": {
   "codemirror_mode": {
    "name": "ipython",
    "version": 3
   },
   "file_extension": ".py",
   "mimetype": "text/x-python",
   "name": "python",
   "nbconvert_exporter": "python",
   "pygments_lexer": "ipython3",
   "version": "3.9.0"
  }
 },
 "nbformat": 4,
 "nbformat_minor": 5
}
